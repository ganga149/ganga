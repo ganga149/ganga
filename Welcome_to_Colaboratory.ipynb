{
  "cells": [
    {
      "cell_type": "code",
      "source": [
        "\n",
        "import pandas as pd\n",
        "from sklearn.model_selection import train_test_split\n",
        "from sklearn.linear_model import LinearRegression\n",
        "from sklearn.metrics import r2_score, mean_squared_error,accuracy_score\n",
        "\n",
        "df = pd.read_csv('/content/HousingData.csv')\n",
        "\n",
        "print('Sample data:', df.head())\n",
        "print('Summary of dataset:', df.describe())\n",
        "print('Checking null values:', df.isnull().sum())\n",
        "\n",
        "x = df[['RM', 'NOX']]\n",
        "y = df['TAX']\n",
        "\n",
        "x_train, x_test, y_train, y_test = train_test_split(x, y, test_size=0.2, random_state=42)\n",
        "model = LinearRegression()\n",
        "model.fit(x_train, y_train)\n",
        "\n",
        "y_pred = model.predict(x_test)\n",
        "\n",
        "print(\"R2 score of the model is:\", r2_score(y_test, y_pred))\n",
        "print(\"Mean Squared Error of the model is:\", mean_squared_error(y_test, y_pred))"
      ],
      "metadata": {
        "id": "Ordjk9pxb3lI",
        "outputId": "4ce2a62b-05ca-4d66-f5c2-ddec264c70a8",
        "colab": {
          "base_uri": "https://localhost:8080/"
        }
      },
      "execution_count": 7,
      "outputs": [
        {
          "output_type": "stream",
          "name": "stdout",
          "text": [
            "Sample data:       CRIM    ZN  INDUS  CHAS    NOX     RM   AGE     DIS  RAD  TAX  PTRATIO  \\\n",
            "0  0.00632  18.0   2.31   0.0  0.538  6.575  65.2  4.0900    1  296     15.3   \n",
            "1  0.02731   0.0   7.07   0.0  0.469  6.421  78.9  4.9671    2  242     17.8   \n",
            "2  0.02729   0.0   7.07   0.0  0.469  7.185  61.1  4.9671    2  242     17.8   \n",
            "3  0.03237   0.0   2.18   0.0  0.458  6.998  45.8  6.0622    3  222     18.7   \n",
            "4  0.06905   0.0   2.18   0.0  0.458  7.147  54.2  6.0622    3  222     18.7   \n",
            "\n",
            "        B  LSTAT  MEDV  \n",
            "0  396.90   4.98  24.0  \n",
            "1  396.90   9.14  21.6  \n",
            "2  392.83   4.03  34.7  \n",
            "3  394.63   2.94  33.4  \n",
            "4  396.90    NaN  36.2  \n",
            "Summary of dataset:              CRIM          ZN       INDUS        CHAS         NOX          RM  \\\n",
            "count  486.000000  486.000000  486.000000  486.000000  506.000000  506.000000   \n",
            "mean     3.611874   11.211934   11.083992    0.069959    0.554695    6.284634   \n",
            "std      8.720192   23.388876    6.835896    0.255340    0.115878    0.702617   \n",
            "min      0.006320    0.000000    0.460000    0.000000    0.385000    3.561000   \n",
            "25%      0.081900    0.000000    5.190000    0.000000    0.449000    5.885500   \n",
            "50%      0.253715    0.000000    9.690000    0.000000    0.538000    6.208500   \n",
            "75%      3.560263   12.500000   18.100000    0.000000    0.624000    6.623500   \n",
            "max     88.976200  100.000000   27.740000    1.000000    0.871000    8.780000   \n",
            "\n",
            "              AGE         DIS         RAD         TAX     PTRATIO           B  \\\n",
            "count  486.000000  506.000000  506.000000  506.000000  506.000000  506.000000   \n",
            "mean    68.518519    3.795043    9.549407  408.237154   18.455534  356.674032   \n",
            "std     27.999513    2.105710    8.707259  168.537116    2.164946   91.294864   \n",
            "min      2.900000    1.129600    1.000000  187.000000   12.600000    0.320000   \n",
            "25%     45.175000    2.100175    4.000000  279.000000   17.400000  375.377500   \n",
            "50%     76.800000    3.207450    5.000000  330.000000   19.050000  391.440000   \n",
            "75%     93.975000    5.188425   24.000000  666.000000   20.200000  396.225000   \n",
            "max    100.000000   12.126500   24.000000  711.000000   22.000000  396.900000   \n",
            "\n",
            "            LSTAT        MEDV  \n",
            "count  486.000000  506.000000  \n",
            "mean    12.715432   22.532806  \n",
            "std      7.155871    9.197104  \n",
            "min      1.730000    5.000000  \n",
            "25%      7.125000   17.025000  \n",
            "50%     11.430000   21.200000  \n",
            "75%     16.955000   25.000000  \n",
            "max     37.970000   50.000000  \n",
            "Checking null values: CRIM       20\n",
            "ZN         20\n",
            "INDUS      20\n",
            "CHAS       20\n",
            "NOX         0\n",
            "RM          0\n",
            "AGE        20\n",
            "DIS         0\n",
            "RAD         0\n",
            "TAX         0\n",
            "PTRATIO     0\n",
            "B           0\n",
            "LSTAT      20\n",
            "MEDV        0\n",
            "dtype: int64\n",
            "R2 score of the model is: 0.5235236387722093\n",
            "Mean Squared Error of the model is: 14858.522062440186\n"
          ]
        }
      ]
    }
  ],
  "metadata": {
    "colab": {
      "name": "Welcome to Colaboratory",
      "provenance": []
    },
    "kernelspec": {
      "display_name": "Python 3",
      "name": "python3"
    }
  },
  "nbformat": 4,
  "nbformat_minor": 0
}